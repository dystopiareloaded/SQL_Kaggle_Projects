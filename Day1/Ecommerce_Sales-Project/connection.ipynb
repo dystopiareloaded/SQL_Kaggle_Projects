{
 "cells": [
  {
   "cell_type": "code",
   "execution_count": 3,
   "metadata": {},
   "outputs": [],
   "source": [
    "import pymysql\n",
    "from sqlalchemy import create_engine\n",
    "import pandas as pd"
   ]
  },
  {
   "cell_type": "code",
   "execution_count": 2,
   "metadata": {},
   "outputs": [],
   "source": [
    "username = 'root'\n",
    "password = 'kaustav007'\n",
    "host = '127.0.0.1'\n",
    "port = 3306\n",
    "database_name = 'ecommerce'\n",
    "\n",
    "database_url = f\"mysql+pymysql://{username}:{password}@{host}:{port}/{database_name}\"\n",
    "\n",
    "engine = create_engine(database_url)"
   ]
  },
  {
   "cell_type": "markdown",
   "metadata": {},
   "source": [
    "**For Multi_CSV Files**"
   ]
  },
  {
   "cell_type": "code",
   "execution_count": null,
   "metadata": {},
   "outputs": [],
   "source": [
    "# Define CSV files and corresponding MySQL table names\n",
    "csv_files = {\n",
    "    \"customers.csv\": \"customers\",\n",
    "    \"geolocation.csv\": \"geolocation\",\n",
    "    \"order_items.csv\": \"order_items\",\n",
    "    \"orders.csv\": \"orders\",\n",
    "    \"payments.csv\": \"payments\",\n",
    "    \"products.csv\": \"products\",\n",
    "    \"sellers.csv\": \"sellers\"\n",
    "}\n",
    "\n",
    "# Load each CSV into its respective MySQL table\n",
    "for file, table in csv_files.items():\n",
    "    df = pd.read_csv(file)\n",
    "    df.to_sql(table, con=engine, if_exists='replace', index=False)\n",
    "    print(f\"✅ Imported {file} into table '{table}'\")\n",
    "\n",
    "print(\"🎉 All files successfully imported into the MySQL database!\")"
   ]
  },
  {
   "cell_type": "markdown",
   "metadata": {},
   "source": [
    "## Manual Process"
   ]
  },
  {
   "cell_type": "code",
   "execution_count": 3,
   "metadata": {},
   "outputs": [],
   "source": [
    "# Load CSV\n",
    "\n",
    "df1 = pd.read_csv('customers.csv')\n",
    "\n",
    "df2 = pd.read_csv('geolocation.csv')\n",
    "\n",
    "df3 = pd.read_csv('order_items.csv')\n",
    "\n",
    "df4 = pd.read_csv('orders.csv')\n",
    "\n",
    "df5 = pd.read_csv('payments.csv')\n",
    "\n",
    "df6 = pd.read_csv('products.csv')\n",
    "\n",
    "df7 = pd.read_csv('sellers.csv')"
   ]
  },
  {
   "cell_type": "code",
   "execution_count": 4,
   "metadata": {},
   "outputs": [
    {
     "data": {
      "text/plain": [
       "3095"
      ]
     },
     "execution_count": 4,
     "metadata": {},
     "output_type": "execute_result"
    }
   ],
   "source": [
    "# Write to the database_table\n",
    "\n",
    "df1.to_sql(name=\"customers\", con=engine, if_exists='replace', index=True)\n",
    "\n",
    "df2.to_sql(name=\"geolocation\", con=engine, if_exists='replace', index=True)\n",
    "\n",
    "df3.to_sql(name=\"order_items\", con=engine, if_exists='replace', index=True)\n",
    "\n",
    "df4.to_sql(name=\"orders\", con=engine, if_exists='replace', index=True)\n",
    "\n",
    "df5.to_sql(name=\"payments\", con=engine, if_exists='replace', index=True)\n",
    "\n",
    "df6.to_sql(name=\"products\", con=engine, if_exists='replace', index=True)\n",
    "\n",
    "df7.to_sql(name=\"sellers\", con=engine, if_exists='replace', index=True)"
   ]
  },
  {
   "cell_type": "markdown",
   "metadata": {},
   "source": [
    "## Excel Process\n"
   ]
  },
  {
   "cell_type": "code",
   "execution_count": 5,
   "metadata": {},
   "outputs": [
    {
     "name": "stdout",
     "output_type": "stream",
     "text": [
      "✅ Added sheet: customers\n",
      "✅ Added sheet: geolocation\n",
      "✅ Added sheet: order_items\n",
      "✅ Added sheet: orders\n",
      "✅ Added sheet: payments\n",
      "✅ Added sheet: products\n",
      "✅ Added sheet: sellers\n"
     ]
    }
   ],
   "source": [
    "import pandas as pd\n",
    "\n",
    "# Dictionary of CSV file paths and corresponding sheet names\n",
    "csv_files = {\n",
    "    \"customers.csv\": \"customers\",\n",
    "    \"geolocation.csv\": \"geolocation\",\n",
    "    \"order_items.csv\": \"order_items\",\n",
    "    \"orders.csv\": \"orders\",\n",
    "    \"payments.csv\": \"payments\",\n",
    "    \"products.csv\": \"products\",\n",
    "    \"sellers.csv\": \"sellers\"\n",
    "}\n",
    "\n",
    "# Output Excel file path\n",
    "output_excel_path = \"ecommerce_data_combined.xlsx\"\n",
    "\n",
    "# Create a Pandas ExcelWriter without specifying engine\n",
    "with pd.ExcelWriter(output_excel_path) as writer:\n",
    "    for file_path, sheet_name in csv_files.items():\n",
    "        try:\n",
    "            df = pd.read_csv(file_path)\n",
    "            df.to_excel(writer, sheet_name=sheet_name, index=False)\n",
    "            print(f\"✅ Added sheet: {sheet_name}\")\n",
    "        except Exception as e:\n",
    "            print(f\"❌ Failed to process '{file_path}': {e}\")\n"
   ]
  },
  {
   "cell_type": "code",
   "execution_count": null,
   "metadata": {},
   "outputs": [],
   "source": [
    "import pandas as pd\n",
    "from tqdm import tqdm\n",
    "\n",
    "# Dictionary of CSV file paths and corresponding sheet names\n",
    "csv_files = {\n",
    "    \"customers.csv\": \"customers\",\n",
    "    \"geolocation.csv\": \"geolocation\",\n",
    "    \"order_items.csv\": \"order_items\",\n",
    "    \"orders.csv\": \"orders\",\n",
    "    \"payments.csv\": \"payments\",\n",
    "    \"products.csv\": \"products\",\n",
    "    \"sellers.csv\": \"sellers\"\n",
    "}\n",
    "\n",
    "# Output Excel file path\n",
    "output_excel_path = \"ecommerce_data_combined.xlsx\"\n",
    "\n",
    "# Wrap the dictionary items with tqdm for progress bar\n",
    "with pd.ExcelWriter(output_excel_path) as writer:\n",
    "    for file_path, sheet_name in tqdm(csv_files.items(), desc=\"Writing Sheets\", total=len(csv_files)):\n",
    "        try:\n",
    "            df = pd.read_csv(file_path)\n",
    "            df.to_excel(writer, sheet_name=sheet_name, index=False)\n",
    "        except Exception as e:\n",
    "            print(f\"❌ Failed to process '{file_path}': {e}\")\n"
   ]
  }
 ],
 "metadata": {
  "kernelspec": {
   "display_name": "base",
   "language": "python",
   "name": "python3"
  },
  "language_info": {
   "codemirror_mode": {
    "name": "ipython",
    "version": 3
   },
   "file_extension": ".py",
   "mimetype": "text/x-python",
   "name": "python",
   "nbconvert_exporter": "python",
   "pygments_lexer": "ipython3",
   "version": "3.12.7"
  }
 },
 "nbformat": 4,
 "nbformat_minor": 2
}
